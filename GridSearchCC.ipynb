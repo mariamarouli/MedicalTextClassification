{
 "cells": [
  {
   "cell_type": "code",
   "execution_count": 1,
   "id": "82060ed7-ce63-4778-8472-e325af23b3e7",
   "metadata": {},
   "outputs": [],
   "source": [
    "import pandas as pd\n",
    "import numpy as np\n",
    "\n",
    "df = pd.read_csv('data.csv')"
   ]
  },
  {
   "cell_type": "code",
   "execution_count": 3,
   "id": "edba712f-54b8-4b36-8a19-4a2cca00a96c",
   "metadata": {},
   "outputs": [],
   "source": [
    "import nltk\n",
    "import string\n",
    "import re\n",
    "from nltk.corpus import stopwords\n",
    "from nltk.tokenize import word_tokenize"
   ]
  },
  {
   "cell_type": "code",
   "execution_count": 4,
   "id": "73d7bfcb-aad3-47cc-ae98-7a3e9a9802d6",
   "metadata": {},
   "outputs": [],
   "source": [
    "def text_lowercase(text):\n",
    "    return text.lower()\n",
    "\n",
    "def remove_punctuation(text):\n",
    "    translator = str.maketrans('', '', string.punctuation)\n",
    "    return text.translate(translator)\n",
    "    \n",
    "def remove_numbers(text):\n",
    "    result = re.sub(r'\\d+', '', text)\n",
    "    return result\n",
    "\n",
    "def remove_bracket(text):\n",
    "    return re.sub('\\[[^]]*\\]', '', text)\n",
    "    \n",
    "def remove_special_characters(text):\n",
    "    text = text.replace('-', ' ')  \n",
    "    text = re.sub(r'[^a-zA-Z0-9\\s]', '', text)\n",
    "    text = re.sub(r'\\s+', ' ', text).strip()\n",
    "    text = re.sub(r\"\\n+\", \" \", text)\n",
    "    return text\n",
    "\n",
    "def remove_placeholders(text):\n",
    "    return re.sub(r\"\\[\\*\\*.*?\\*\\*\\]\", \"\", text) \n",
    "\n",
    "\n",
    "def remove_stopwords(text):\n",
    "    stop_words = set(stopwords.words(\"english\"))\n",
    "    word_tokens = word_tokenize(text)\n",
    "    word_tokens = [word for word in word_tokens if word not in stop_words]\n",
    "    text = ' '.join(word_tokens) # rejoin tokens into a single string\n",
    "    return text"
   ]
  },
  {
   "cell_type": "code",
   "execution_count": 5,
   "id": "f324b6e7-de04-4f9c-9457-a4cdbe1e8b6d",
   "metadata": {},
   "outputs": [],
   "source": [
    "def clean_text(text):\n",
    "    text = text_lowercase(text)\n",
    "    text = remove_placeholders(text)\n",
    "    text = remove_bracket(text)\n",
    "    text = remove_numbers(text)\n",
    "    text = remove_special_characters(text)\n",
    "    text = remove_punctuation(text)\n",
    "    text = remove_stopwords(text) \n",
    "    return text       "
   ]
  },
  {
   "cell_type": "code",
   "execution_count": 6,
   "id": "9e000472-a7a0-4300-b425-07d0a1262bd6",
   "metadata": {},
   "outputs": [],
   "source": [
    "df['TEXT'] = df['TEXT'].apply(clean_text)"
   ]
  },
  {
   "cell_type": "code",
   "execution_count": null,
   "id": "fede3cbe-30dc-4a5e-8e49-25e4cb90b232",
   "metadata": {},
   "outputs": [],
   "source": []
  },
  {
   "cell_type": "code",
   "execution_count": 7,
   "id": "5109af7a-e867-4ae1-8980-bfc2ddeffb62",
   "metadata": {},
   "outputs": [],
   "source": [
    "def multi_label_accuracy(y_true, y_pred):\n",
    "    \"\"\"\n",
    "    Calculate multi-label accuracy.\n",
    "    \n",
    "    Args:\n",
    "        y_true (pd.DataFrame or np.ndarray): True binary labels.\n",
    "        y_pred (pd.DataFrame or np.ndarray): Predicted binary labels.\n",
    "        \n",
    "    Returns:\n",
    "        float: Multi-label accuracy.\n",
    "    \"\"\"\n",
    "    # Convert DataFrame to NumPy array if needed\n",
    "    if isinstance(y_true, pd.DataFrame):\n",
    "        y_true = y_true.values\n",
    "    if isinstance(y_pred, pd.DataFrame):\n",
    "        y_pred = y_pred.values\n",
    "    \n",
    "    n_samples = y_true.shape[0]\n",
    "    accuracy_sum = 0.0\n",
    "    \n",
    "    for i in range(n_samples):\n",
    "        true_set = set(np.where(y_true[i])[0])\n",
    "        pred_set = set(np.where(y_pred[i])[0])\n",
    "        \n",
    "        intersection = len(true_set & pred_set)\n",
    "        union = len(true_set | pred_set)\n",
    "        \n",
    "        if union == 0:\n",
    "            accuracy_sum += 1.0\n",
    "        else:\n",
    "            accuracy_sum += intersection / union\n",
    "    \n",
    "    return accuracy_sum / n_samples"
   ]
  },
  {
   "cell_type": "code",
   "execution_count": null,
   "id": "a2de536f-862c-4c88-9bbf-c7e9375bcbb9",
   "metadata": {},
   "outputs": [],
   "source": []
  },
  {
   "cell_type": "code",
   "execution_count": 8,
   "id": "beab6377-5dab-4677-9079-80815cbd145e",
   "metadata": {},
   "outputs": [],
   "source": [
    "X = df['TEXT']\n",
    "y = df.iloc[:, 3:]"
   ]
  },
  {
   "cell_type": "code",
   "execution_count": 9,
   "id": "346e0d5b-f0ec-45e5-b4d9-361afbede6b3",
   "metadata": {},
   "outputs": [
    {
     "name": "stdout",
     "output_type": "stream",
     "text": [
      "Number of Observations in the Data set: 48335\n",
      "Number of Observations in Train set: 33834\n",
      "Number of Observations in Test set: 14501\n"
     ]
    }
   ],
   "source": [
    "from sklearn.model_selection import train_test_split\n",
    "\n",
    "X_train, X_test, y_train, y_test = train_test_split(X, y, test_size=0.3, shuffle=True, random_state=42)\n",
    "\n",
    "X_train = X_train.reset_index(drop=True)\n",
    "X_test = X_test.reset_index(drop=True)\n",
    "y_train = y_train.reset_index(drop=True)\n",
    "y_test = y_test.reset_index(drop=True)\n",
    "\n",
    "print(\"Number of Observations in the Data set:\" , X.values.shape[0]) \n",
    "print(\"Number of Observations in Train set:\", X_train.shape[0])\n",
    "print(\"Number of Observations in Test set:\" , X_test.shape[0])   "
   ]
  },
  {
   "cell_type": "code",
   "execution_count": null,
   "id": "a40bb963-1f39-4f59-8de5-7f3f4f0eb964",
   "metadata": {},
   "outputs": [],
   "source": []
  },
  {
   "cell_type": "code",
   "execution_count": 10,
   "id": "0c5faed6-7ec6-41ad-98f8-eb1f2ab55b86",
   "metadata": {},
   "outputs": [],
   "source": [
    "from sklearn.feature_extraction.text import TfidfVectorizer\n",
    "\n",
    "vectorizer = TfidfVectorizer(max_features=20000)\n",
    "\n",
    "X_train_vectorized = vectorizer.fit_transform(X_train)\n",
    "X_test_vectorized = vectorizer.transform(X_test)"
   ]
  },
  {
   "cell_type": "code",
   "execution_count": null,
   "id": "ca273057-4574-4faf-8c2c-123d47caaa6c",
   "metadata": {},
   "outputs": [],
   "source": []
  },
  {
   "cell_type": "code",
   "execution_count": 11,
   "id": "07317f77-38bf-40cb-8fdf-a07c81a0579c",
   "metadata": {},
   "outputs": [],
   "source": [
    "from sklearn.linear_model import LogisticRegression\n",
    "\n",
    "clf_lr = LogisticRegression(max_iter=1000, random_state=20)"
   ]
  },
  {
   "cell_type": "code",
   "execution_count": 12,
   "id": "f9d8985a-bd89-46d7-b9a8-393adef0e3c1",
   "metadata": {},
   "outputs": [],
   "source": [
    "from sklearn.multioutput import ClassifierChain\n",
    "from sklearn.metrics import f1_score\n",
    "\n",
    "specific_labels = ['ICD9_V58', 'ICD9_427', 'ICD9_E87', 'ICD9_403', 'ICD9_401', 'ICD9_584',\n",
    "                   'ICD9_414', 'ICD9_599', 'ICD9_585', 'ICD9_V45', 'ICD9_285', 'ICD9_V10',\n",
    "                   'ICD9_428', 'ICD9_250', 'ICD9_038', 'ICD9_V30', 'ICD9_530', 'ICD9_272',\n",
    "                   'ICD9_518', 'ICD9_276']\n",
    "chains = []\n",
    "\n",
    "for i in range(60):\n",
    "    # Generate a unique random order of specific labels\n",
    "    random_order = np.random.permutation(specific_labels)\n",
    "    \n",
    "    # Get the actual label names corresponding to the random order indices\n",
    "    label_indices = [y_train.columns.get_loc(label) for label in random_order if label in y_train.columns]\n",
    "    \n",
    "    # Create a ClassifierChain with the random order of label indices\n",
    "    chain = ClassifierChain(clf_lr, order=label_indices, random_state=i)\n",
    "    chains.append(chain)"
   ]
  },
  {
   "cell_type": "code",
   "execution_count": 13,
   "id": "398d2c26-5fc4-4b77-85ab-c18a0165ccab",
   "metadata": {
    "scrolled": true
   },
   "outputs": [
    {
     "name": "stdout",
     "output_type": "stream",
     "text": [
      "Chain 1: Accuracy = 0.47789716566524787\n",
      "Chain 2: Accuracy = 0.47656801645664376\n",
      "Chain 3: Accuracy = 0.47839537951340283\n",
      "Chain 4: Accuracy = 0.473216498674225\n",
      "Chain 5: Accuracy = 0.4734553094692026\n",
      "Chain 6: Accuracy = 0.47738017667763655\n",
      "Chain 7: Accuracy = 0.4781282358845972\n",
      "Chain 8: Accuracy = 0.4700652047766018\n",
      "Chain 9: Accuracy = 0.47644721083190755\n",
      "Chain 10: Accuracy = 0.469047905235924\n",
      "Chain 11: Accuracy = 0.4750985547947808\n",
      "Chain 12: Accuracy = 0.4719816101919052\n",
      "Chain 13: Accuracy = 0.47296212348363814\n",
      "Chain 14: Accuracy = 0.47192794476516187\n",
      "Chain 15: Accuracy = 0.47561268505685905\n",
      "Chain 16: Accuracy = 0.46937079396478504\n",
      "Chain 17: Accuracy = 0.4774481719959611\n",
      "Chain 18: Accuracy = 0.47933656148003173\n",
      "Chain 19: Accuracy = 0.47040258979004423\n",
      "Chain 20: Accuracy = 0.47567571154909694\n",
      "Chain 21: Accuracy = 0.4733955658659118\n",
      "Chain 22: Accuracy = 0.4740458873165211\n",
      "Chain 23: Accuracy = 0.4742874042224063\n",
      "Chain 24: Accuracy = 0.47189114253713016\n",
      "Chain 25: Accuracy = 0.48112793915583263\n",
      "Chain 26: Accuracy = 0.4748070647793073\n",
      "Chain 27: Accuracy = 0.4745622584780217\n",
      "Chain 28: Accuracy = 0.4775080908907877\n",
      "Chain 29: Accuracy = 0.4780085939583532\n",
      "Chain 30: Accuracy = 0.47693038395834564\n",
      "Chain 31: Accuracy = 0.4717754960522697\n",
      "Chain 32: Accuracy = 0.47857379510282444\n",
      "Chain 33: Accuracy = 0.47466824708825167\n",
      "Chain 34: Accuracy = 0.4734577449881554\n",
      "Chain 35: Accuracy = 0.47769976510321743\n",
      "Chain 36: Accuracy = 0.47647550778455366\n",
      "Chain 37: Accuracy = 0.47248751897482894\n",
      "Chain 38: Accuracy = 0.47052885117242566\n",
      "Chain 39: Accuracy = 0.4781153028713527\n",
      "Chain 40: Accuracy = 0.4715926621976182\n",
      "Chain 41: Accuracy = 0.47081817520838726\n",
      "Chain 42: Accuracy = 0.4762957101476841\n",
      "Chain 43: Accuracy = 0.4725575531097546\n",
      "Chain 44: Accuracy = 0.4722705733110175\n",
      "Chain 45: Accuracy = 0.474844589223768\n",
      "Chain 46: Accuracy = 0.4714252205089036\n",
      "Chain 47: Accuracy = 0.4773498908549926\n",
      "Chain 48: Accuracy = 0.4723703082617984\n",
      "Chain 49: Accuracy = 0.47681503035961154\n",
      "Chain 50: Accuracy = 0.47807705008673723\n",
      "Chain 51: Accuracy = 0.47350972275546277\n",
      "Chain 52: Accuracy = 0.4716458151454005\n",
      "Chain 53: Accuracy = 0.4780443578328186\n",
      "Chain 54: Accuracy = 0.4796146969022951\n",
      "Chain 55: Accuracy = 0.47817157183666165\n",
      "Chain 56: Accuracy = 0.4779955791360168\n",
      "Chain 57: Accuracy = 0.4759134306949959\n",
      "Chain 58: Accuracy = 0.4732921558209442\n",
      "Chain 59: Accuracy = 0.4790534606762778\n",
      "Chain 60: Accuracy = 0.4707482080516681\n"
     ]
    }
   ],
   "source": [
    "accuracies = []\n",
    "\n",
    "for i, chain in enumerate(chains):\n",
    "    # Train the model\n",
    "    chain.fit(X_train_vectorized, y_train)\n",
    "    \n",
    "    # Get predictions for the test set\n",
    "    y_pred = chain.predict(X_test_vectorized)\n",
    "    \n",
    "    accuracy = multi_label_accuracy(y_test, y_pred)    \n",
    "    accuracies.append((chain.order, accuracy))\n",
    "    \n",
    "    print(f\"Chain {i+1}: Accuracy = {accuracy}\")"
   ]
  },
  {
   "cell_type": "code",
   "execution_count": 14,
   "id": "9d440b1b-3623-4d58-a0ba-c4ed5736ef4b",
   "metadata": {
    "scrolled": true
   },
   "outputs": [
    {
     "name": "stdout",
     "output_type": "stream",
     "text": [
      "Chain 1: Label Order: 3 - 6 - 4 - 11 - 14 - 8 - 2 - 13 - 9 - 7 - 16 - 17 - 10 - 1 - 15 - 5 - 0 - 18 - 12 - 19, Accuracy: 0.4779\n",
      "Chain 2: Label Order: 4 - 1 - 3 - 16 - 18 - 19 - 8 - 6 - 5 - 13 - 2 - 15 - 9 - 17 - 10 - 0 - 7 - 14 - 11 - 12, Accuracy: 0.4766\n",
      "Chain 3: Label Order: 2 - 10 - 12 - 11 - 6 - 16 - 5 - 8 - 14 - 4 - 3 - 0 - 18 - 1 - 17 - 15 - 13 - 7 - 9 - 19, Accuracy: 0.4784\n",
      "Chain 4: Label Order: 18 - 13 - 12 - 7 - 19 - 17 - 2 - 3 - 6 - 5 - 11 - 1 - 4 - 0 - 8 - 14 - 16 - 15 - 10 - 9, Accuracy: 0.4732\n",
      "Chain 5: Label Order: 0 - 13 - 4 - 3 - 15 - 14 - 8 - 16 - 5 - 12 - 7 - 19 - 17 - 11 - 1 - 9 - 6 - 2 - 18 - 10, Accuracy: 0.4735\n",
      "Chain 6: Label Order: 9 - 10 - 5 - 1 - 18 - 3 - 8 - 13 - 2 - 16 - 14 - 0 - 4 - 12 - 11 - 19 - 15 - 6 - 7 - 17, Accuracy: 0.4774\n",
      "Chain 7: Label Order: 1 - 2 - 15 - 4 - 13 - 10 - 8 - 11 - 9 - 17 - 3 - 19 - 6 - 7 - 18 - 14 - 0 - 16 - 12 - 5, Accuracy: 0.4781\n",
      "Chain 8: Label Order: 14 - 17 - 15 - 16 - 2 - 4 - 1 - 9 - 6 - 0 - 8 - 11 - 3 - 7 - 12 - 13 - 18 - 10 - 19 - 5, Accuracy: 0.4701\n",
      "Chain 9: Label Order: 19 - 14 - 4 - 1 - 18 - 3 - 15 - 12 - 10 - 13 - 16 - 0 - 6 - 9 - 2 - 11 - 8 - 5 - 7 - 17, Accuracy: 0.4764\n",
      "Chain 10: Label Order: 0 - 17 - 7 - 13 - 15 - 9 - 12 - 14 - 19 - 10 - 16 - 18 - 11 - 2 - 4 - 5 - 3 - 6 - 8 - 1, Accuracy: 0.4690\n",
      "Chain 11: Label Order: 4 - 9 - 1 - 2 - 19 - 16 - 6 - 14 - 3 - 13 - 17 - 10 - 18 - 7 - 8 - 11 - 12 - 0 - 15 - 5, Accuracy: 0.4751\n",
      "Chain 12: Label Order: 1 - 16 - 0 - 11 - 15 - 17 - 2 - 3 - 12 - 19 - 4 - 9 - 13 - 14 - 7 - 8 - 10 - 6 - 18 - 5, Accuracy: 0.4720\n",
      "Chain 13: Label Order: 3 - 17 - 12 - 15 - 19 - 10 - 16 - 13 - 11 - 2 - 4 - 9 - 18 - 0 - 14 - 5 - 1 - 7 - 6 - 8, Accuracy: 0.4730\n",
      "Chain 14: Label Order: 16 - 6 - 12 - 14 - 2 - 17 - 9 - 1 - 7 - 13 - 0 - 19 - 15 - 5 - 3 - 11 - 4 - 8 - 18 - 10, Accuracy: 0.4719\n",
      "Chain 15: Label Order: 7 - 15 - 16 - 9 - 11 - 10 - 4 - 14 - 8 - 13 - 1 - 2 - 17 - 12 - 18 - 5 - 19 - 0 - 3 - 6, Accuracy: 0.4756\n",
      "Chain 16: Label Order: 7 - 16 - 14 - 17 - 18 - 5 - 2 - 13 - 9 - 11 - 15 - 19 - 1 - 4 - 0 - 10 - 3 - 8 - 12 - 6, Accuracy: 0.4694\n",
      "Chain 17: Label Order: 16 - 14 - 12 - 6 - 10 - 13 - 5 - 19 - 7 - 3 - 4 - 8 - 1 - 15 - 11 - 9 - 18 - 2 - 0 - 17, Accuracy: 0.4774\n",
      "Chain 18: Label Order: 16 - 7 - 5 - 3 - 18 - 15 - 0 - 1 - 4 - 17 - 11 - 9 - 19 - 14 - 2 - 12 - 6 - 10 - 13 - 8, Accuracy: 0.4793\n",
      "Chain 19: Label Order: 9 - 10 - 1 - 3 - 2 - 7 - 6 - 14 - 0 - 12 - 8 - 11 - 19 - 18 - 17 - 5 - 15 - 4 - 13 - 16, Accuracy: 0.4704\n",
      "Chain 20: Label Order: 4 - 14 - 13 - 16 - 9 - 6 - 12 - 8 - 2 - 0 - 3 - 17 - 11 - 5 - 15 - 18 - 19 - 7 - 1 - 10, Accuracy: 0.4757\n",
      "Chain 21: Label Order: 1 - 7 - 0 - 17 - 10 - 6 - 12 - 19 - 11 - 2 - 3 - 14 - 15 - 9 - 4 - 16 - 5 - 13 - 8 - 18, Accuracy: 0.4734\n",
      "Chain 22: Label Order: 14 - 11 - 1 - 16 - 4 - 17 - 7 - 3 - 15 - 9 - 5 - 6 - 0 - 18 - 10 - 19 - 8 - 2 - 13 - 12, Accuracy: 0.4740\n",
      "Chain 23: Label Order: 18 - 13 - 8 - 10 - 12 - 17 - 19 - 9 - 6 - 2 - 7 - 4 - 16 - 14 - 0 - 15 - 1 - 5 - 11 - 3, Accuracy: 0.4743\n",
      "Chain 24: Label Order: 5 - 7 - 16 - 12 - 9 - 14 - 10 - 8 - 18 - 6 - 2 - 17 - 15 - 3 - 11 - 0 - 4 - 13 - 19 - 1, Accuracy: 0.4719\n",
      "Chain 25: Label Order: 18 - 2 - 10 - 15 - 8 - 5 - 4 - 19 - 14 - 7 - 16 - 11 - 13 - 9 - 17 - 6 - 1 - 12 - 0 - 3, Accuracy: 0.4811\n",
      "Chain 26: Label Order: 13 - 19 - 12 - 8 - 0 - 1 - 11 - 5 - 17 - 3 - 10 - 9 - 4 - 16 - 2 - 15 - 7 - 18 - 14 - 6, Accuracy: 0.4748\n",
      "Chain 27: Label Order: 8 - 6 - 5 - 7 - 1 - 11 - 17 - 9 - 19 - 18 - 0 - 14 - 2 - 12 - 4 - 10 - 3 - 16 - 15 - 13, Accuracy: 0.4746\n",
      "Chain 28: Label Order: 4 - 1 - 7 - 10 - 18 - 15 - 11 - 5 - 19 - 17 - 0 - 6 - 13 - 12 - 14 - 3 - 16 - 9 - 2 - 8, Accuracy: 0.4775\n",
      "Chain 29: Label Order: 10 - 2 - 15 - 7 - 3 - 8 - 4 - 5 - 1 - 16 - 0 - 9 - 19 - 18 - 6 - 13 - 12 - 17 - 14 - 11, Accuracy: 0.4780\n",
      "Chain 30: Label Order: 14 - 16 - 8 - 0 - 15 - 13 - 4 - 12 - 19 - 10 - 18 - 3 - 6 - 11 - 1 - 2 - 9 - 17 - 5 - 7, Accuracy: 0.4769\n",
      "Chain 31: Label Order: 18 - 14 - 16 - 12 - 1 - 7 - 17 - 19 - 2 - 3 - 9 - 11 - 15 - 6 - 13 - 4 - 0 - 8 - 5 - 10, Accuracy: 0.4718\n",
      "Chain 32: Label Order: 10 - 5 - 14 - 15 - 0 - 7 - 8 - 9 - 1 - 11 - 4 - 6 - 2 - 17 - 13 - 3 - 18 - 19 - 16 - 12, Accuracy: 0.4786\n",
      "Chain 33: Label Order: 5 - 2 - 10 - 15 - 19 - 17 - 8 - 12 - 14 - 13 - 3 - 1 - 18 - 4 - 6 - 7 - 9 - 11 - 16 - 0, Accuracy: 0.4747\n",
      "Chain 34: Label Order: 5 - 11 - 18 - 15 - 19 - 13 - 9 - 3 - 17 - 1 - 10 - 0 - 2 - 7 - 14 - 4 - 12 - 6 - 8 - 16, Accuracy: 0.4735\n",
      "Chain 35: Label Order: 10 - 15 - 11 - 3 - 9 - 18 - 7 - 6 - 4 - 0 - 5 - 12 - 1 - 17 - 13 - 2 - 8 - 14 - 19 - 16, Accuracy: 0.4777\n",
      "Chain 36: Label Order: 14 - 15 - 4 - 16 - 19 - 1 - 3 - 12 - 6 - 5 - 0 - 8 - 7 - 17 - 11 - 13 - 18 - 10 - 9 - 2, Accuracy: 0.4765\n",
      "Chain 37: Label Order: 5 - 2 - 7 - 1 - 17 - 18 - 12 - 4 - 15 - 19 - 13 - 11 - 3 - 14 - 0 - 9 - 6 - 10 - 8 - 16, Accuracy: 0.4725\n",
      "Chain 38: Label Order: 17 - 13 - 4 - 2 - 8 - 11 - 3 - 12 - 6 - 14 - 7 - 18 - 1 - 5 - 19 - 16 - 15 - 0 - 9 - 10, Accuracy: 0.4705\n",
      "Chain 39: Label Order: 6 - 1 - 14 - 18 - 10 - 5 - 13 - 2 - 4 - 19 - 16 - 8 - 15 - 7 - 3 - 12 - 0 - 9 - 11 - 17, Accuracy: 0.4781\n",
      "Chain 40: Label Order: 14 - 16 - 1 - 7 - 8 - 3 - 0 - 6 - 11 - 5 - 17 - 12 - 10 - 13 - 9 - 2 - 4 - 15 - 19 - 18, Accuracy: 0.4716\n",
      "Chain 41: Label Order: 16 - 11 - 17 - 4 - 10 - 13 - 3 - 2 - 19 - 7 - 8 - 5 - 15 - 1 - 6 - 18 - 14 - 12 - 0 - 9, Accuracy: 0.4708\n",
      "Chain 42: Label Order: 11 - 4 - 17 - 14 - 6 - 12 - 2 - 5 - 10 - 1 - 13 - 18 - 7 - 16 - 0 - 3 - 19 - 15 - 9 - 8, Accuracy: 0.4763\n",
      "Chain 43: Label Order: 5 - 3 - 0 - 17 - 15 - 2 - 14 - 11 - 8 - 4 - 18 - 12 - 7 - 6 - 16 - 1 - 9 - 10 - 19 - 13, Accuracy: 0.4726\n",
      "Chain 44: Label Order: 7 - 13 - 15 - 12 - 2 - 18 - 16 - 5 - 3 - 6 - 10 - 19 - 0 - 17 - 9 - 1 - 8 - 4 - 11 - 14, Accuracy: 0.4723\n",
      "Chain 45: Label Order: 11 - 16 - 4 - 8 - 18 - 0 - 13 - 14 - 6 - 7 - 2 - 15 - 12 - 17 - 9 - 3 - 1 - 10 - 5 - 19, Accuracy: 0.4748\n",
      "Chain 46: Label Order: 18 - 0 - 7 - 1 - 8 - 17 - 13 - 6 - 14 - 5 - 19 - 10 - 16 - 4 - 11 - 3 - 9 - 2 - 15 - 12, Accuracy: 0.4714\n",
      "Chain 47: Label Order: 8 - 0 - 11 - 12 - 13 - 2 - 19 - 15 - 16 - 9 - 4 - 3 - 7 - 18 - 1 - 5 - 10 - 17 - 14 - 6, Accuracy: 0.4773\n",
      "Chain 48: Label Order: 18 - 14 - 8 - 17 - 0 - 6 - 12 - 13 - 5 - 1 - 7 - 19 - 3 - 15 - 16 - 9 - 4 - 11 - 10 - 2, Accuracy: 0.4724\n",
      "Chain 49: Label Order: 19 - 1 - 2 - 14 - 4 - 11 - 15 - 13 - 9 - 5 - 7 - 6 - 3 - 17 - 16 - 12 - 8 - 10 - 18 - 0, Accuracy: 0.4768\n",
      "Chain 50: Label Order: 12 - 7 - 5 - 6 - 1 - 3 - 9 - 2 - 18 - 16 - 19 - 10 - 14 - 0 - 4 - 17 - 13 - 8 - 11 - 15, Accuracy: 0.4781\n",
      "Chain 51: Label Order: 13 - 9 - 12 - 17 - 19 - 8 - 3 - 2 - 11 - 0 - 18 - 6 - 5 - 4 - 10 - 1 - 16 - 7 - 14 - 15, Accuracy: 0.4735\n",
      "Chain 52: Label Order: 18 - 11 - 13 - 9 - 17 - 6 - 0 - 1 - 3 - 15 - 2 - 4 - 14 - 19 - 16 - 10 - 5 - 7 - 12 - 8, Accuracy: 0.4716\n",
      "Chain 53: Label Order: 8 - 16 - 11 - 9 - 19 - 4 - 10 - 17 - 0 - 2 - 13 - 6 - 15 - 1 - 3 - 18 - 12 - 5 - 7 - 14, Accuracy: 0.4780\n",
      "Chain 54: Label Order: 3 - 9 - 4 - 13 - 17 - 10 - 7 - 19 - 5 - 8 - 11 - 15 - 0 - 14 - 1 - 16 - 2 - 6 - 12 - 18, Accuracy: 0.4796\n",
      "Chain 55: Label Order: 16 - 9 - 19 - 3 - 4 - 13 - 8 - 0 - 18 - 17 - 5 - 1 - 15 - 11 - 12 - 14 - 10 - 6 - 2 - 7, Accuracy: 0.4782\n",
      "Chain 56: Label Order: 4 - 16 - 18 - 5 - 1 - 12 - 14 - 10 - 17 - 13 - 3 - 6 - 19 - 0 - 7 - 2 - 8 - 11 - 15 - 9, Accuracy: 0.4780\n",
      "Chain 57: Label Order: 16 - 7 - 11 - 4 - 1 - 17 - 15 - 9 - 0 - 6 - 19 - 13 - 5 - 12 - 10 - 18 - 2 - 3 - 8 - 14, Accuracy: 0.4759\n",
      "Chain 58: Label Order: 16 - 0 - 2 - 4 - 13 - 17 - 9 - 18 - 14 - 1 - 3 - 7 - 12 - 8 - 5 - 10 - 11 - 6 - 19 - 15, Accuracy: 0.4733\n",
      "Chain 59: Label Order: 7 - 5 - 2 - 12 - 1 - 19 - 11 - 14 - 8 - 6 - 15 - 10 - 9 - 13 - 0 - 16 - 18 - 3 - 4 - 17, Accuracy: 0.4791\n",
      "Chain 60: Label Order: 17 - 0 - 14 - 3 - 11 - 16 - 6 - 2 - 4 - 8 - 7 - 13 - 10 - 5 - 18 - 1 - 15 - 19 - 12 - 9, Accuracy: 0.4707\n"
     ]
    }
   ],
   "source": [
    "# Display results\n",
    "for idx, (order, accuracy) in enumerate(accuracies):\n",
    "    order_str = ' - '.join(map(str, order))\n",
    "    print(f\"Chain {idx + 1}: Label Order: {order_str}, Accuracy: {accuracy:.4f}\")"
   ]
  },
  {
   "cell_type": "code",
   "execution_count": 15,
   "id": "669f6d36-0903-458a-9d3e-cbd36bb323e6",
   "metadata": {},
   "outputs": [],
   "source": [
    "ml_accs = []\n",
    "\n",
    "for idx, (order, accuracy) in enumerate(accuracies):\n",
    "    ml_accs.append(accuracy)"
   ]
  },
  {
   "cell_type": "code",
   "execution_count": 16,
   "id": "ce42388c-111d-4fa3-ae8f-834ba172e058",
   "metadata": {
    "scrolled": true
   },
   "outputs": [
    {
     "data": {
      "text/plain": [
       "[0.47789716566524787,\n",
       " 0.47656801645664376,\n",
       " 0.47839537951340283,\n",
       " 0.473216498674225,\n",
       " 0.4734553094692026,\n",
       " 0.47738017667763655,\n",
       " 0.4781282358845972,\n",
       " 0.4700652047766018,\n",
       " 0.47644721083190755,\n",
       " 0.469047905235924,\n",
       " 0.4750985547947808,\n",
       " 0.4719816101919052,\n",
       " 0.47296212348363814,\n",
       " 0.47192794476516187,\n",
       " 0.47561268505685905,\n",
       " 0.46937079396478504,\n",
       " 0.4774481719959611,\n",
       " 0.47933656148003173,\n",
       " 0.47040258979004423,\n",
       " 0.47567571154909694,\n",
       " 0.4733955658659118,\n",
       " 0.4740458873165211,\n",
       " 0.4742874042224063,\n",
       " 0.47189114253713016,\n",
       " 0.48112793915583263,\n",
       " 0.4748070647793073,\n",
       " 0.4745622584780217,\n",
       " 0.4775080908907877,\n",
       " 0.4780085939583532,\n",
       " 0.47693038395834564,\n",
       " 0.4717754960522697,\n",
       " 0.47857379510282444,\n",
       " 0.47466824708825167,\n",
       " 0.4734577449881554,\n",
       " 0.47769976510321743,\n",
       " 0.47647550778455366,\n",
       " 0.47248751897482894,\n",
       " 0.47052885117242566,\n",
       " 0.4781153028713527,\n",
       " 0.4715926621976182,\n",
       " 0.47081817520838726,\n",
       " 0.4762957101476841,\n",
       " 0.4725575531097546,\n",
       " 0.4722705733110175,\n",
       " 0.474844589223768,\n",
       " 0.4714252205089036,\n",
       " 0.4773498908549926,\n",
       " 0.4723703082617984,\n",
       " 0.47681503035961154,\n",
       " 0.47807705008673723,\n",
       " 0.47350972275546277,\n",
       " 0.4716458151454005,\n",
       " 0.4780443578328186,\n",
       " 0.4796146969022951,\n",
       " 0.47817157183666165,\n",
       " 0.4779955791360168,\n",
       " 0.4759134306949959,\n",
       " 0.4732921558209442,\n",
       " 0.4790534606762778,\n",
       " 0.4707482080516681]"
      ]
     },
     "execution_count": 16,
     "metadata": {},
     "output_type": "execute_result"
    }
   ],
   "source": [
    "ml_accs"
   ]
  },
  {
   "cell_type": "code",
   "execution_count": 17,
   "id": "f3116961-de1a-49df-a22e-cee4fb14b714",
   "metadata": {},
   "outputs": [
    {
     "name": "stdout",
     "output_type": "stream",
     "text": [
      "Best Label Order: [18, 2, 10, 15, 8, 5, 4, 19, 14, 7, 16, 11, 13, 9, 17, 6, 1, 12, 0, 3]\n",
      "Best Accuracy: 0.48112793915583263\n"
     ]
    }
   ],
   "source": [
    "# Identify the best label order according to accuracy\n",
    "best_order, best_accuracy = max(accuracies, key=lambda x: x[1])\n",
    "\n",
    "print(\"Best Label Order:\", best_order)\n",
    "print(\"Best Accuracy:\", best_accuracy)"
   ]
  },
  {
   "cell_type": "code",
   "execution_count": 18,
   "id": "ab20e163-1aeb-46dc-bd09-78dddc0d0a39",
   "metadata": {},
   "outputs": [
    {
     "data": {
      "text/plain": [
       "['ICD9_518',\n",
       " 'ICD9_E87',\n",
       " 'ICD9_285',\n",
       " 'ICD9_V30',\n",
       " 'ICD9_585',\n",
       " 'ICD9_584',\n",
       " 'ICD9_401',\n",
       " 'ICD9_276',\n",
       " 'ICD9_038',\n",
       " 'ICD9_599',\n",
       " 'ICD9_530',\n",
       " 'ICD9_V10',\n",
       " 'ICD9_250',\n",
       " 'ICD9_V45',\n",
       " 'ICD9_272',\n",
       " 'ICD9_414',\n",
       " 'ICD9_427',\n",
       " 'ICD9_428',\n",
       " 'ICD9_V58',\n",
       " 'ICD9_403']"
      ]
     },
     "execution_count": 18,
     "metadata": {},
     "output_type": "execute_result"
    }
   ],
   "source": [
    "best_label_order_names = [specific_labels[idx] for idx in best_order]\n",
    "best_label_order_names"
   ]
  },
  {
   "cell_type": "code",
   "execution_count": 1,
   "id": "4fe9c69f-6747-4dd2-89fc-ea76bba128b4",
   "metadata": {},
   "outputs": [],
   "source": [
    "ml_accs = [0.47789716566524787, 0.47656801645664376, 0.47839537951340283, 0.473216498674225, 0.4734553094692026,\n",
    " 0.47738017667763655, 0.4781282358845972, 0.4700652047766018, 0.47644721083190755, 0.469047905235924, 0.4750985547947808,\n",
    " 0.4719816101919052, 0.47296212348363814, 0.47192794476516187, 0.47561268505685905, 0.46937079396478504, 0.4774481719959611,\n",
    " 0.47933656148003173, 0.47040258979004423, 0.47567571154909694, 0.4733955658659118, 0.4740458873165211, 0.4742874042224063,\n",
    " 0.47189114253713016, 0.48112793915583263, 0.4748070647793073, 0.4745622584780217, 0.4775080908907877, 0.4780085939583532,\n",
    " 0.47693038395834564, 0.4717754960522697, 0.47857379510282444, 0.47466824708825167, 0.4734577449881554, 0.47769976510321743,\n",
    " 0.47647550778455366, 0.47248751897482894, 0.47052885117242566, 0.4781153028713527, 0.4715926621976182, 0.47081817520838726,\n",
    " 0.4762957101476841, 0.4725575531097546, 0.4722705733110175, 0.474844589223768, 0.4714252205089036, 0.4773498908549926,\n",
    " 0.4723703082617984, 0.47681503035961154, 0.47807705008673723, 0.47350972275546277, 0.4716458151454005, 0.4780443578328186, 0.4796146969022951,\n",
    " 0.47817157183666165, 0.4779955791360168, 0.4759134306949959, 0.4732921558209442, 0.4790534606762778, 0.4707482080516681]"
   ]
  },
  {
   "cell_type": "code",
   "execution_count": 2,
   "id": "819d1fcb-6675-4c70-9c4c-9c29fcc89c82",
   "metadata": {},
   "outputs": [],
   "source": [
    "ensemble_ml_acc = 0.4776908983368866"
   ]
  },
  {
   "cell_type": "code",
   "execution_count": 4,
   "id": "6be13d6b-0828-4b2e-bc3c-89e5e70f289a",
   "metadata": {},
   "outputs": [
    {
     "data": {
      "image/png": "[encoded data removed]",
      "text/plain": [
       "<Figure size 1000x1000 with 1 Axes>"
      ]
     },
     "metadata": {},
     "output_type": "display_data"
    }
   ],
   "source": [
    "import matplotlib.pyplot as plt\n",
    "import numpy as np\n",
    "\n",
    "model_scores = ml_accs + [ensemble_ml_acc]\n",
    "\n",
    "model_names = (\n",
    "    \"Chain 1\", \"Chain 2\", \"Chain 3\", \"Chain 4\", \"Chain 5\", \"Chain 6\", \"Chain 7\", \"Chain 8\", \"Chain 9\", \"Chain 10\",\n",
    "    \"Chain 11\", \"Chain 12\",  \"Chain 13\", \"Chain 14\",  \"Chain 15\",  \"Chain 16\",  \"Chain 17\",  \"Chain 18\",  \"Chain 19\",  \"Chain 20\",\n",
    "    \"Chain 21\", \"Chain 22\", \"Chain 23\", \"Chain 24\", \"Chain 25\", \"Chain 26\", \"Chain 27\", \"Chain 28\", \"Chain 29\", \"Chain 30\",\n",
    "    \"Chain 31\", \"Chain 32\",  \"Chain 33\",  \"Chain 34\",  \"Chain 35\",  \"Chain 36\",  \"Chain 37\",  \"Chain 38\",  \"Chain 39\",  \"Chain 40\",\n",
    "    \"Chain 41\",  \"Chain 42\",  \"Chain 43\",  \"Chain 44\",  \"Chain 45\",  \"Chain 46\",  \"Chain 47\",  \"Chain 48\",  \"Chain 49\",  \"Chain 50\",\n",
    "    \"Chain 51\",  \"Chain 52\",  \"Chain 53\",  \"Chain 54\",  \"Chain 55\",  \"Chain 56\",  \"Chain 57\",  \"Chain 58\",  \"Chain 59\",  \"Chain 60\",\n",
    "    \"Ensemble\"\n",
    ")\n",
    "\n",
    "x_pos = np.arange(len(model_names))\n",
    "\n",
    "fig, ax = plt.subplots(figsize=(10, 10))\n",
    "ax.grid(True)\n",
    "ax.set_title(\"Classifier Chain Ensemble Performance Comparison\")\n",
    "ax.set_xticks(x_pos)\n",
    "ax.set_xticklabels(model_names, rotation=\"vertical\")\n",
    "ax.set_ylabel(\"Accuracy\")\n",
    "ax.set_ylim([min(model_scores) * 0.9, max(model_scores) * 1.1])\n",
    "colors = [\"b\"] * len(ml_accs) + [\"g\"]\n",
    "ax.bar(x_pos, model_scores, alpha=0.5, color=colors)\n",
    "plt.tight_layout()\n",
    "\n",
    "plt.savefig(\"ecc.png\")\n",
    "\n",
    "plt.show()"
   ]
  },
  {
   "cell_type": "code",
   "execution_count": null,
   "id": "8ffc4482-a3ed-49bd-97f6-36efca8c864d",
   "metadata": {},
   "outputs": [],
   "source": []
  },
  {
   "cell_type": "code",
   "execution_count": 20,
   "id": "7f761ae8-e033-4198-be09-15c4478330c4",
   "metadata": {},
   "outputs": [
    {
     "data": {
      "text/plain": [
       "array([[ 0., 60.,  0., ...,  0.,  0.,  0.],\n",
       "       [ 0.,  8.,  0., ...,  4.,  0.,  0.],\n",
       "       [ 0.,  0.,  0., ...,  0.,  0.,  0.],\n",
       "       ...,\n",
       "       [ 0., 60.,  0., ...,  0.,  0.,  1.],\n",
       "       [ 0.,  0.,  0., ...,  0.,  0.,  0.],\n",
       "       [ 0.,  0.,  5., ...,  8.,  0.,  0.]])"
      ]
     },
     "execution_count": 20,
     "metadata": {},
     "output_type": "execute_result"
    }
   ],
   "source": [
    "y_pred_chains = np.array([chain.predict(X_test_vectorized) for chain in chains])\n",
    "vote_counts = np.sum(y_pred_chains, axis=0)\n",
    "vote_counts "
   ]
  },
  {
   "cell_type": "code",
   "execution_count": 21,
   "id": "19fb9ba8-eb27-4737-bb72-a46701d9f330",
   "metadata": {},
   "outputs": [
    {
     "name": "stdout",
     "output_type": "stream",
     "text": [
      "Ensemble Predictions: [[0 1 0 ... 0 0 0]\n",
      " [0 0 0 ... 0 0 0]\n",
      " [0 0 0 ... 0 0 0]\n",
      " ...\n",
      " [0 1 0 ... 0 0 0]\n",
      " [0 0 0 ... 0 0 0]\n",
      " [0 0 0 ... 0 0 0]]\n"
     ]
    }
   ],
   "source": [
    "num_chains = y_pred_chains.shape[0]\n",
    "\n",
    "majority_threshold = num_chains / 2\n",
    "y_pred_ensemble = (vote_counts >= majority_threshold).astype(int)\n",
    "\n",
    "print(f\"Ensemble Predictions: {y_pred_ensemble}\")"
   ]
  },
  {
   "cell_type": "code",
   "execution_count": 22,
   "id": "e718622c-f3ec-480f-9357-eca08a948c3a",
   "metadata": {},
   "outputs": [
    {
     "data": {
      "text/plain": [
       "array([[0, 1, 0, ..., 0, 0, 0],\n",
       "       [0, 0, 0, ..., 0, 0, 0],\n",
       "       [0, 0, 0, ..., 0, 0, 0],\n",
       "       ...,\n",
       "       [0, 1, 0, ..., 0, 0, 0],\n",
       "       [0, 0, 0, ..., 0, 0, 0],\n",
       "       [0, 0, 0, ..., 0, 0, 0]])"
      ]
     },
     "execution_count": 22,
     "metadata": {},
     "output_type": "execute_result"
    }
   ],
   "source": [
    "y_pred_ensemble = np.array(y_pred_ensemble)\n",
    "\n",
    "y_pred_ensemble"
   ]
  },
  {
   "cell_type": "code",
   "execution_count": 24,
   "id": "83869858-1756-4785-8443-2c2b51fa998c",
   "metadata": {},
   "outputs": [
    {
     "name": "stdout",
     "output_type": "stream",
     "text": [
      "Ensemble Jaccard Score (micro): 0.46919075226444784\n",
      "\n",
      "Ensemble Jaccard Score (macro): 0.4471612086156759\n",
      "\n",
      "Ensemble F1 Score (micro): 0.6387063783804645\n",
      "\n",
      "Ensemble F1 Score (macro): 0.5926803251267916\n",
      "\n",
      "Ensemble Accuracy: 0.13212881870215848\n",
      "\n",
      "Ensemble Hamming Loss: 0.12911868147024344\n",
      "\n",
      "Ensemble Multi Label Accuracy: 0.4776908983368866\n"
     ]
    }
   ],
   "source": [
    "from sklearn.metrics import accuracy_score, hamming_loss, f1_score, jaccard_score\n",
    "\n",
    "ensemble_jaccard_micro = jaccard_score(y_test, y_pred_ensemble, average='micro') \n",
    "ensemble_jaccard_macro = jaccard_score(y_test, y_pred_ensemble, average='macro') \n",
    "\n",
    "ensemble_f1_score_micro = f1_score(y_test, y_pred_ensemble, average=\"micro\")\n",
    "ensemble_f1_score_macro = f1_score(y_test, y_pred_ensemble, average=\"macro\")\n",
    "ensemble_accuracy = accuracy_score(y_test, y_pred_ensemble)\n",
    "ensemble_hamming_loss = hamming_loss(y_test, y_pred_ensemble)\n",
    "ensemble_ml_acc = multi_label_accuracy(y_test, y_pred_ensemble)\n",
    "\n",
    "print(f\"Ensemble Jaccard Score (micro): {ensemble_jaccard_micro}\")\n",
    "print(f\"\\nEnsemble Jaccard Score (macro): {ensemble_jaccard_macro}\")\n",
    "print(f\"\\nEnsemble F1 Score (micro): {ensemble_f1_score_micro}\")\n",
    "print(f\"\\nEnsemble F1 Score (macro): {ensemble_f1_score_macro}\")\n",
    "print(f\"\\nEnsemble Accuracy: {ensemble_accuracy}\")\n",
    "print(f\"\\nEnsemble Hamming Loss: {ensemble_hamming_loss}\")\n",
    "print(f\"\\nEnsemble Multi Label Accuracy: {ensemble_ml_acc}\")"
   ]
  },
  {
   "cell_type": "code",
   "execution_count": null,
   "id": "3c55758f-c9e6-4e7a-ad2f-93db10d2b19b",
   "metadata": {},
   "outputs": [],
   "source": []
  }
 ],
 "metadata": {
  "kernelspec": {
   "display_name": "Python 3 (ipykernel)",
   "language": "python",
   "name": "python3"
  },
  "language_info": {
   "codemirror_mode": {
    "name": "ipython",
    "version": 3
   },
   "file_extension": ".py",
   "mimetype": "text/x-python",
   "name": "python",
   "nbconvert_exporter": "python",
   "pygments_lexer": "ipython3",
   "version": "3.11.7"
  }
 },
 "nbformat": 4,
 "nbformat_minor": 5
}
