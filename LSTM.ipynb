{
 "cells": [
  {
   "cell_type": "code",
   "execution_count": 1,
   "id": "520371ab",
   "metadata": {},
   "outputs": [],
   "source": [
    "import pandas as pd\n",
    "import numpy as np\n",
    "\n",
    "df = pd.read_csv('data.csv')"
   ]
  },
  {
   "cell_type": "code",
   "execution_count": 2,
   "id": "3064e6e7",
   "metadata": {},
   "outputs": [],
   "source": [
    "import nltk\n",
    "import string\n",
    "import re\n",
    "from nltk.corpus import stopwords\n",
    "from nltk.tokenize import word_tokenize"
   ]
  },
  {
   "cell_type": "code",
   "execution_count": 3,
   "id": "4afea68d",
   "metadata": {},
   "outputs": [],
   "source": [
    "def text_lowercase(text):\n",
    "    return text.lower()\n",
    "\n",
    "def remove_punctuation(text):\n",
    "    translator = str.maketrans('', '', string.punctuation)\n",
    "    return text.translate(translator)\n",
    "    \n",
    "def remove_numbers(text):\n",
    "    result = re.sub(r'\\d+', '', text)\n",
    "    return result\n",
    "\n",
    "def remove_bracket(text):\n",
    "    return re.sub('\\[[^]]*\\]', '', text)\n",
    "    \n",
    "def remove_special_characters(text):\n",
    "    text = text.replace('-', ' ')  \n",
    "    text = re.sub(r'[^a-zA-Z0-9\\s]', '', text)\n",
    "    text = re.sub(r'\\s+', ' ', text).strip()\n",
    "    text = re.sub(r\"\\n+\", \" \", text)\n",
    "    return text\n",
    "\n",
    "def remove_placeholders(text):\n",
    "    return re.sub(r\"\\[\\*\\*.*?\\*\\*\\]\", \"\", text) \n",
    "\n",
    "\n",
    "def remove_stopwords(text):\n",
    "    stop_words = set(stopwords.words(\"english\"))\n",
    "    word_tokens = word_tokenize(text)\n",
    "    word_tokens = [word for word in word_tokens if word not in stop_words]\n",
    "    text = ' '.join(word_tokens) # rejoin tokens into a single string\n",
    "    return text"
   ]
  },
  {
   "cell_type": "code",
   "execution_count": 4,
   "id": "0da020f4",
   "metadata": {},
   "outputs": [],
   "source": [
    "def clean_text(text):\n",
    "    text = text_lowercase(text)\n",
    "    text = remove_placeholders(text)\n",
    "    text = remove_bracket(text)\n",
    "    text = remove_numbers(text)\n",
    "    text = remove_special_characters(text)\n",
    "    text = remove_punctuation(text)\n",
    "    #text = remove_stopwords(text) \n",
    "    return text    "
   ]
  },
  {
   "cell_type": "code",
   "execution_count": 5,
   "id": "2ce5fa6f",
   "metadata": {},
   "outputs": [],
   "source": [
    "df['TEXT'] = df['TEXT'].apply(clean_text)"
   ]
  },
  {
   "cell_type": "code",
   "execution_count": null,
   "id": "5905a72d",
   "metadata": {
    "vscode": {
     "languageId": "plaintext"
    }
   },
   "outputs": [],
   "source": []
  },
  {
   "cell_type": "code",
   "execution_count": 6,
   "id": "2e5caa8b",
   "metadata": {},
   "outputs": [],
   "source": [
    "def multi_label_accuracy(y_true, y_pred):\n",
    "    \"\"\"\n",
    "    Calculate multi-label accuracy.\n",
    "    \n",
    "    Args:\n",
    "        y_true (pd.DataFrame or np.ndarray): True binary labels.\n",
    "        y_pred (pd.DataFrame or np.ndarray): Predicted binary labels.\n",
    "        \n",
    "    Returns:\n",
    "        float: Multi-label accuracy.\n",
    "    \"\"\"\n",
    "    # Convert DataFrame to NumPy array if needed\n",
    "    if isinstance(y_true, pd.DataFrame):\n",
    "        y_true = y_true.values\n",
    "    if isinstance(y_pred, pd.DataFrame):\n",
    "        y_pred = y_pred.values\n",
    "    \n",
    "    n_samples = y_true.shape[0]\n",
    "    accuracy_sum = 0.0\n",
    "    \n",
    "    for i in range(n_samples):\n",
    "        true_set = set(np.where(y_true[i])[0])\n",
    "        pred_set = set(np.where(y_pred[i])[0])\n",
    "        \n",
    "        intersection = len(true_set & pred_set)\n",
    "        union = len(true_set | pred_set)\n",
    "        \n",
    "        if union == 0:\n",
    "            accuracy_sum += 1.0\n",
    "        else:\n",
    "            accuracy_sum += intersection / union\n",
    "    \n",
    "    return accuracy_sum / n_samples"
   ]
  },
  {
   "cell_type": "code",
   "execution_count": null,
   "id": "e9ccc4f7",
   "metadata": {},
   "outputs": [],
   "source": []
  },
  {
   "cell_type": "code",
   "execution_count": 7,
   "id": "e54235c3",
   "metadata": {},
   "outputs": [],
   "source": [
    "X = df['TEXT']\n",
    "y = df.iloc[:, 3:]"
   ]
  },
  {
   "cell_type": "code",
   "execution_count": 8,
   "id": "637503ce",
   "metadata": {},
   "outputs": [
    {
     "name": "stdout",
     "output_type": "stream",
     "text": [
      "Number of Observations in the Data set: 48335\n",
      "Number of Observations in Train set: 33834\n",
      "Number of Observations in Test set: 14501\n"
     ]
    }
   ],
   "source": [
    "from sklearn.model_selection import train_test_split\n",
    "\n",
    "X_train, X_test, y_train, y_test = train_test_split(X, y, test_size=0.3, shuffle=True, random_state=42)\n",
    "\n",
    "X_train = X_train.reset_index(drop=True)\n",
    "X_test = X_test.reset_index(drop=True)\n",
    "y_train = y_train.reset_index(drop=True)\n",
    "y_test = y_test.reset_index(drop=True)\n",
    "\n",
    "print(\"Number of Observations in the Data set:\" , X.values.shape[0]) \n",
    "print(\"Number of Observations in Train set:\", X_train.shape[0])\n",
    "print(\"Number of Observations in Test set:\" , X_test.shape[0])   "
   ]
  },
  {
   "cell_type": "code",
   "execution_count": null,
   "id": "ec78ac94",
   "metadata": {},
   "outputs": [],
   "source": []
  },
  {
   "cell_type": "code",
   "execution_count": 9,
   "id": "789e18d8",
   "metadata": {},
   "outputs": [],
   "source": [
    "from tensorflow.keras.preprocessing.text import Tokenizer\n",
    "from tensorflow.keras.preprocessing.sequence import pad_sequences\n",
    "\n",
    "tokenizer = Tokenizer(num_words=20000, oov_token='OOV')\n",
    "tokenizer.fit_on_texts(X_train)"
   ]
  },
  {
   "cell_type": "code",
   "execution_count": 10,
   "id": "591ac95d",
   "metadata": {},
   "outputs": [],
   "source": [
    "X_train_sequences = tokenizer.texts_to_sequences(X_train)\n",
    "X_test_sequences = tokenizer.texts_to_sequences(X_test)"
   ]
  },
  {
   "cell_type": "code",
   "execution_count": 11,
   "id": "19b45e8e",
   "metadata": {},
   "outputs": [
    {
     "name": "stdout",
     "output_type": "stream",
     "text": [
      "Max Training Plot Length: 7043\n",
      "Median Training Plot Length: 1303.0\n",
      "Min Training Plot Length: 12\n"
     ]
    }
   ],
   "source": [
    "train_lengths = np.array([ len(train_sample) for train_sample in X_train_sequences ])\n",
    "\n",
    "print(f\"Max Training Plot Length: {np.max(train_lengths)}\")\n",
    "print(f\"Median Training Plot Length: {np.median(train_lengths)}\")\n",
    "print(f\"Min Training Plot Length: {np.min(train_lengths)}\")"
   ]
  },
  {
   "cell_type": "code",
   "execution_count": 14,
   "id": "4325f7a0-77cf-40ac-807b-c99cede0d8f6",
   "metadata": {},
   "outputs": [
    {
     "name": "stdout",
     "output_type": "stream",
     "text": [
      "Median Training Review Length: 1303.0\n",
      "Percentage of Reviews Under 500 words: 30.31%\n"
     ]
    }
   ],
   "source": [
    "percent_documents_under_500_words = np.sum(train_lengths<=1000)/X_train.shape[0]\n",
    "print(f\"Median Training Review Length: {np.median(train_lengths)}\")\n",
    "print(f\"Percentage of Reviews Under 500 words: {round(percent_documents_under_500_words*100, 2)}%\")\n"
   ]
  },
  {
   "cell_type": "code",
   "execution_count": 15,
   "id": "55569774",
   "metadata": {},
   "outputs": [],
   "source": [
    "X_train_nn = pad_sequences(X_train_sequences, padding='pre', truncating='pre', maxlen=500)\n",
    "X_test_nn = pad_sequences(X_test_sequences, padding='pre', truncating='pre', maxlen=500)"
   ]
  },
  {
   "cell_type": "code",
   "execution_count": null,
   "id": "5df91c45",
   "metadata": {},
   "outputs": [],
   "source": []
  },
  {
   "cell_type": "code",
   "execution_count": 16,
   "id": "49f13ba4",
   "metadata": {},
   "outputs": [],
   "source": [
    "from gensim.models import KeyedVectors\n",
    "\n",
    "# Load the binary embeddings\n",
    "embedding_file = \"bio_embedding_extrinsic\"  \n",
    "bio_embeddings = KeyedVectors.load_word2vec_format(embedding_file, binary=True)"
   ]
  },
  {
   "cell_type": "code",
   "execution_count": 17,
   "id": "ecebb02b",
   "metadata": {},
   "outputs": [
    {
     "name": "stdout",
     "output_type": "stream",
     "text": [
      "Embedding matrix shape: (20000, 200)\n"
     ]
    }
   ],
   "source": [
    "vocab_size = 20000  \n",
    "embedding_dim = bio_embeddings.vector_size  \n",
    "\n",
    "embedding_matrix = np.zeros((vocab_size, embedding_dim))\n",
    "\n",
    "for word, i in tokenizer.word_index.items():\n",
    "    \n",
    "    if i < vocab_size:  # Ensure the index is within vocab size\n",
    "        if word in bio_embeddings.key_to_index:  # Check if word exists in BioWordVec\n",
    "            embedding_matrix[i] = bio_embeddings[word]\n",
    "        # If the word is not in the embeddings, it remains as a zero vector\n",
    "\n",
    "print(f\"Embedding matrix shape: {embedding_matrix.shape}\")"
   ]
  },
  {
   "cell_type": "code",
   "execution_count": null,
   "id": "f26c3e58",
   "metadata": {},
   "outputs": [],
   "source": []
  },
  {
   "cell_type": "code",
   "execution_count": 18,
   "id": "18171a9e",
   "metadata": {},
   "outputs": [
    {
     "name": "stderr",
     "output_type": "stream",
     "text": [
      "C:\\Users\\UserX\\anaconda3\\Lib\\site-packages\\keras\\src\\layers\\core\\embedding.py:90: UserWarning: Argument `input_length` is deprecated. Just remove it.\n",
      "  warnings.warn(\n"
     ]
    }
   ],
   "source": [
    "from keras.models import Sequential\n",
    "import tensorflow as tf\n",
    "from keras.layers import Embedding, LSTM, Dense, Dropout\n",
    "from keras.metrics import AUC\n",
    "\n",
    "vocab_size = 20000\n",
    "embedding_dim = 200\n",
    "maxlen = 500\n",
    "\n",
    "lstm_model = Sequential()\n",
    "lstm_model.add(Embedding(vocab_size, embedding_dim,\n",
    "                weights=[embedding_matrix],\n",
    "                input_length=maxlen,\n",
    "                trainable=False))\n",
    "lstm_model.add(LSTM(64, return_sequences=True))\n",
    "lstm_model.add(Dropout(0.5))\n",
    "lstm_model.add(LSTM(32))\n",
    "lstm_model.add(Dropout(0.5))\n",
    "lstm_model.add(Dense(20, activation='sigmoid'))  # For multi-label classification\n",
    "\n",
    "lstm_model.compile(loss='binary_crossentropy', optimizer='adam', metrics=[AUC(name='auc')])"
   ]
  },
  {
   "cell_type": "code",
   "execution_count": 19,
   "id": "bbdd120c",
   "metadata": {},
   "outputs": [
    {
     "name": "stdout",
     "output_type": "stream",
     "text": [
      "Epoch 1/100\n",
      "\u001b[1m423/423\u001b[0m \u001b[32m━━━━━━━━━━━━━━━━━━━━\u001b[0m\u001b[37m\u001b[0m \u001b[1m354s\u001b[0m 754ms/step - auc: 0.5936 - loss: 0.5433 - val_auc: 0.7157 - val_loss: 0.4681\n",
      "Epoch 2/100\n",
      "\u001b[1m423/423\u001b[0m \u001b[32m━━━━━━━━━━━━━━━━━━━━\u001b[0m\u001b[37m\u001b[0m \u001b[1m288s\u001b[0m 680ms/step - auc: 0.6917 - loss: 0.4799 - val_auc: 0.7304 - val_loss: 0.4577\n",
      "Epoch 3/100\n",
      "\u001b[1m423/423\u001b[0m \u001b[32m━━━━━━━━━━━━━━━━━━━━\u001b[0m\u001b[37m\u001b[0m \u001b[1m377s\u001b[0m 892ms/step - auc: 0.7157 - loss: 0.4657 - val_auc: 0.7830 - val_loss: 0.4284\n",
      "Epoch 4/100\n",
      "\u001b[1m423/423\u001b[0m \u001b[32m━━━━━━━━━━━━━━━━━━━━\u001b[0m\u001b[37m\u001b[0m \u001b[1m392s\u001b[0m 926ms/step - auc: 0.7683 - loss: 0.4401 - val_auc: 0.7999 - val_loss: 0.4145\n",
      "Epoch 5/100\n",
      "\u001b[1m423/423\u001b[0m \u001b[32m━━━━━━━━━━━━━━━━━━━━\u001b[0m\u001b[37m\u001b[0m \u001b[1m398s\u001b[0m 941ms/step - auc: 0.7834 - loss: 0.4268 - val_auc: 0.8030 - val_loss: 0.4109\n",
      "Epoch 6/100\n",
      "\u001b[1m423/423\u001b[0m \u001b[32m━━━━━━━━━━━━━━━━━━━━\u001b[0m\u001b[37m\u001b[0m \u001b[1m403s\u001b[0m 954ms/step - auc: 0.7909 - loss: 0.4227 - val_auc: 0.8130 - val_loss: 0.4022\n",
      "Epoch 7/100\n",
      "\u001b[1m423/423\u001b[0m \u001b[32m━━━━━━━━━━━━━━━━━━━━\u001b[0m\u001b[37m\u001b[0m \u001b[1m401s\u001b[0m 948ms/step - auc: 0.8017 - loss: 0.4125 - val_auc: 0.8205 - val_loss: 0.3960\n",
      "Epoch 8/100\n",
      "\u001b[1m423/423\u001b[0m \u001b[32m━━━━━━━━━━━━━━━━━━━━\u001b[0m\u001b[37m\u001b[0m \u001b[1m417s\u001b[0m 890ms/step - auc: 0.8050 - loss: 0.4110 - val_auc: 0.8233 - val_loss: 0.3930\n",
      "Epoch 9/100\n",
      "\u001b[1m423/423\u001b[0m \u001b[32m━━━━━━━━━━━━━━━━━━━━\u001b[0m\u001b[37m\u001b[0m \u001b[1m264s\u001b[0m 623ms/step - auc: 0.8100 - loss: 0.4065 - val_auc: 0.8272 - val_loss: 0.3901\n",
      "Epoch 10/100\n",
      "\u001b[1m423/423\u001b[0m \u001b[32m━━━━━━━━━━━━━━━━━━━━\u001b[0m\u001b[37m\u001b[0m \u001b[1m259s\u001b[0m 613ms/step - auc: 0.8134 - loss: 0.4030 - val_auc: 0.8296 - val_loss: 0.3872\n",
      "Epoch 11/100\n",
      "\u001b[1m423/423\u001b[0m \u001b[32m━━━━━━━━━━━━━━━━━━━━\u001b[0m\u001b[37m\u001b[0m \u001b[1m267s\u001b[0m 632ms/step - auc: 0.8160 - loss: 0.4008 - val_auc: 0.8305 - val_loss: 0.3864\n",
      "Epoch 12/100\n",
      "\u001b[1m423/423\u001b[0m \u001b[32m━━━━━━━━━━━━━━━━━━━━\u001b[0m\u001b[37m\u001b[0m \u001b[1m271s\u001b[0m 640ms/step - auc: 0.8185 - loss: 0.3991 - val_auc: 0.8333 - val_loss: 0.3838\n",
      "Epoch 13/100\n",
      "\u001b[1m423/423\u001b[0m \u001b[32m━━━━━━━━━━━━━━━━━━━━\u001b[0m\u001b[37m\u001b[0m \u001b[1m272s\u001b[0m 643ms/step - auc: 0.8214 - loss: 0.3959 - val_auc: 0.8343 - val_loss: 0.3813\n",
      "Epoch 14/100\n",
      "\u001b[1m423/423\u001b[0m \u001b[32m━━━━━━━━━━━━━━━━━━━━\u001b[0m\u001b[37m\u001b[0m \u001b[1m268s\u001b[0m 634ms/step - auc: 0.8253 - loss: 0.3912 - val_auc: 0.8385 - val_loss: 0.3779\n",
      "Epoch 15/100\n",
      "\u001b[1m423/423\u001b[0m \u001b[32m━━━━━━━━━━━━━━━━━━━━\u001b[0m\u001b[37m\u001b[0m \u001b[1m270s\u001b[0m 639ms/step - auc: 0.8284 - loss: 0.3894 - val_auc: 0.8406 - val_loss: 0.3757\n",
      "Epoch 16/100\n",
      "\u001b[1m423/423\u001b[0m \u001b[32m━━━━━━━━━━━━━━━━━━━━\u001b[0m\u001b[37m\u001b[0m \u001b[1m273s\u001b[0m 644ms/step - auc: 0.8292 - loss: 0.3895 - val_auc: 0.8406 - val_loss: 0.3749\n",
      "Epoch 17/100\n",
      "\u001b[1m423/423\u001b[0m \u001b[32m━━━━━━━━━━━━━━━━━━━━\u001b[0m\u001b[37m\u001b[0m \u001b[1m270s\u001b[0m 638ms/step - auc: 0.8327 - loss: 0.3851 - val_auc: 0.8421 - val_loss: 0.3730\n",
      "Epoch 18/100\n",
      "\u001b[1m423/423\u001b[0m \u001b[32m━━━━━━━━━━━━━━━━━━━━\u001b[0m\u001b[37m\u001b[0m \u001b[1m273s\u001b[0m 645ms/step - auc: 0.8333 - loss: 0.3832 - val_auc: 0.8451 - val_loss: 0.3703\n",
      "Epoch 19/100\n",
      "\u001b[1m423/423\u001b[0m \u001b[32m━━━━━━━━━━━━━━━━━━━━\u001b[0m\u001b[37m\u001b[0m \u001b[1m273s\u001b[0m 646ms/step - auc: 0.8358 - loss: 0.3807 - val_auc: 0.8457 - val_loss: 0.3701\n",
      "Epoch 20/100\n",
      "\u001b[1m423/423\u001b[0m \u001b[32m━━━━━━━━━━━━━━━━━━━━\u001b[0m\u001b[37m\u001b[0m \u001b[1m264s\u001b[0m 624ms/step - auc: 0.8374 - loss: 0.3795 - val_auc: 0.8468 - val_loss: 0.3676\n",
      "Epoch 21/100\n",
      "\u001b[1m423/423\u001b[0m \u001b[32m━━━━━━━━━━━━━━━━━━━━\u001b[0m\u001b[37m\u001b[0m \u001b[1m281s\u001b[0m 663ms/step - auc: 0.8402 - loss: 0.3764 - val_auc: 0.8493 - val_loss: 0.3666\n",
      "Epoch 22/100\n",
      "\u001b[1m423/423\u001b[0m \u001b[32m━━━━━━━━━━━━━━━━━━━━\u001b[0m\u001b[37m\u001b[0m \u001b[1m281s\u001b[0m 664ms/step - auc: 0.8423 - loss: 0.3754 - val_auc: 0.8505 - val_loss: 0.3653\n",
      "Epoch 23/100\n",
      "\u001b[1m423/423\u001b[0m \u001b[32m━━━━━━━━━━━━━━━━━━━━\u001b[0m\u001b[37m\u001b[0m \u001b[1m295s\u001b[0m 697ms/step - auc: 0.8436 - loss: 0.3718 - val_auc: 0.8517 - val_loss: 0.3634\n",
      "Epoch 24/100\n",
      "\u001b[1m423/423\u001b[0m \u001b[32m━━━━━━━━━━━━━━━━━━━━\u001b[0m\u001b[37m\u001b[0m \u001b[1m293s\u001b[0m 692ms/step - auc: 0.8461 - loss: 0.3708 - val_auc: 0.8518 - val_loss: 0.3626\n",
      "Epoch 25/100\n",
      "\u001b[1m423/423\u001b[0m \u001b[32m━━━━━━━━━━━━━━━━━━━━\u001b[0m\u001b[37m\u001b[0m \u001b[1m292s\u001b[0m 690ms/step - auc: 0.8463 - loss: 0.3714 - val_auc: 0.8524 - val_loss: 0.3624\n",
      "Epoch 26/100\n",
      "\u001b[1m423/423\u001b[0m \u001b[32m━━━━━━━━━━━━━━━━━━━━\u001b[0m\u001b[37m\u001b[0m \u001b[1m295s\u001b[0m 699ms/step - auc: 0.8475 - loss: 0.3679 - val_auc: 0.8526 - val_loss: 0.3619\n",
      "Epoch 27/100\n",
      "\u001b[1m423/423\u001b[0m \u001b[32m━━━━━━━━━━━━━━━━━━━━\u001b[0m\u001b[37m\u001b[0m \u001b[1m291s\u001b[0m 689ms/step - auc: 0.8478 - loss: 0.3693 - val_auc: 0.8535 - val_loss: 0.3610\n",
      "Epoch 28/100\n",
      "\u001b[1m423/423\u001b[0m \u001b[32m━━━━━━━━━━━━━━━━━━━━\u001b[0m\u001b[37m\u001b[0m \u001b[1m292s\u001b[0m 690ms/step - auc: 0.8509 - loss: 0.3659 - val_auc: 0.8528 - val_loss: 0.3616\n",
      "Epoch 29/100\n",
      "\u001b[1m423/423\u001b[0m \u001b[32m━━━━━━━━━━━━━━━━━━━━\u001b[0m\u001b[37m\u001b[0m \u001b[1m292s\u001b[0m 690ms/step - auc: 0.8513 - loss: 0.3654 - val_auc: 0.8515 - val_loss: 0.3629\n",
      "Epoch 30/100\n",
      "\u001b[1m423/423\u001b[0m \u001b[32m━━━━━━━━━━━━━━━━━━━━\u001b[0m\u001b[37m\u001b[0m \u001b[1m294s\u001b[0m 694ms/step - auc: 0.8525 - loss: 0.3640 - val_auc: 0.8524 - val_loss: 0.3622\n"
     ]
    }
   ],
   "source": [
    "from keras.callbacks import EarlyStopping\n",
    "\n",
    "early_stopping = EarlyStopping(monitor='val_loss', patience=3, restore_best_weights=True)\n",
    "\n",
    "epochs = 100\n",
    "batch_size = 64\n",
    "\n",
    "history = lstm_model.fit(X_train_nn, y_train, validation_split=0.2, epochs=epochs, batch_size=batch_size, callbacks=[early_stopping])"
   ]
  },
  {
   "cell_type": "code",
   "execution_count": 20,
   "id": "8fba4c15",
   "metadata": {},
   "outputs": [
    {
     "data": {
      "text/plain": [
       "Text(0.5, 1.0, 'Training Process - AUC')"
      ]
     },
     "execution_count": 20,
     "metadata": {},
     "output_type": "execute_result"
    },
    {
     "data": {
      "image/png": "[encoded data removed]",
      "text/plain": [
       "<Figure size 2000x600 with 2 Axes>"
      ]
     },
     "metadata": {},
     "output_type": "display_data"
    }
   ],
   "source": [
    "import matplotlib.pyplot as plt\n",
    "\n",
    "fig, axs = plt.subplots(nrows=1, ncols=2, figsize=(20,6))\n",
    "\n",
    "axs[0].plot(history.epoch, history.history['loss'])\n",
    "axs[0].plot(history.epoch, history.history['val_loss'])\n",
    "axs[0].set_xlabel('Epochs')\n",
    "axs[0].set_ylabel('Value')\n",
    "axs[0].legend([\"CE\", \"Val_CE\"])\n",
    "axs[0].set_title(\"Training Process - CE\")\n",
    "\n",
    "axs[1].plot(history.epoch, history.history['auc'])\n",
    "axs[1].plot(history.epoch, history.history['val_auc'])\n",
    "axs[1].set_xlabel(\"Epochs\")\n",
    "axs[1].set_ylabel(\"Value\")\n",
    "axs[1].legend([\"AUC\", \"Val_AUC\"])\n",
    "axs[1].set_title(\"Training Process - AUC\")"
   ]
  },
  {
   "cell_type": "code",
   "execution_count": 21,
   "id": "eb73a94a",
   "metadata": {},
   "outputs": [
    {
     "name": "stdout",
     "output_type": "stream",
     "text": [
      "\u001b[1m227/227\u001b[0m \u001b[32m━━━━━━━━━━━━━━━━━━━━\u001b[0m\u001b[37m\u001b[0m \u001b[1m72s\u001b[0m 318ms/step - auc: 0.8544 - loss: 0.3595\n"
     ]
    },
    {
     "data": {
      "text/plain": [
       "[0.360320508480072, 0.8549408316612244]"
      ]
     },
     "execution_count": 21,
     "metadata": {},
     "output_type": "execute_result"
    }
   ],
   "source": [
    "lstm_model.evaluate(X_test_nn, y_test, batch_size=64)"
   ]
  },
  {
   "cell_type": "code",
   "execution_count": 22,
   "id": "751358a3",
   "metadata": {},
   "outputs": [],
   "source": [
    "# Assuming 'model' is your LSTM model\n",
    "lstm_model.save_weights('lstm_weights.weights.h5')"
   ]
  },
  {
   "cell_type": "code",
   "execution_count": 23,
   "id": "c5d0f7e0",
   "metadata": {},
   "outputs": [
    {
     "name": "stdout",
     "output_type": "stream",
     "text": [
      "\u001b[1m454/454\u001b[0m \u001b[32m━━━━━━━━━━━━━━━━━━━━\u001b[0m\u001b[37m\u001b[0m \u001b[1m111s\u001b[0m 243ms/step\n"
     ]
    }
   ],
   "source": [
    "y_pred_lstm = lstm_model.predict(X_test_nn)"
   ]
  },
  {
   "cell_type": "code",
   "execution_count": 24,
   "id": "4f0e5c35",
   "metadata": {},
   "outputs": [],
   "source": [
    "y_pred_binary = (y_pred_lstm >= 0.5).astype(int)"
   ]
  },
  {
   "cell_type": "code",
   "execution_count": 25,
   "id": "ecea69ce",
   "metadata": {},
   "outputs": [
    {
     "name": "stdout",
     "output_type": "stream",
     "text": [
      "Accuracy:  0.09199365560995794\n",
      "\n",
      "Hammilg Loss:  0.15677194676229225\n",
      "\n",
      "Jaccard Score (micro):  0.3615889018379927\n",
      "\n",
      "Jaccard Score (macro):  0.3199406427652724\n",
      "\n",
      "F1 (micro) : 0.5311278629693413\n",
      "\n",
      "F1 (macro) : 0.4198671493042073\n",
      "\n",
      "Multi Label Accuracy : 0.36793205165467396\n"
     ]
    }
   ],
   "source": [
    "from sklearn.metrics import hamming_loss, f1_score, accuracy_score, jaccard_score\n",
    "\n",
    "lstm_ml_acc = multi_label_accuracy(y_test, y_pred_binary)\n",
    "lstm_hamming_loss = hamming_loss(y_test, y_pred_binary)\n",
    "\n",
    "lstm_jaccard_micro = jaccard_score(y_test, y_pred_binary, average='micro')\n",
    "lstm_jaccard_macro = jaccard_score(y_test, y_pred_binary, average='macro')\n",
    "lstm_accuracy = accuracy_score(y_test, y_pred_binary)\n",
    "\n",
    "lstm_f1_micro = f1_score(y_test, y_pred_binary, average='micro')\n",
    "lstm_f1_macro = f1_score(y_test, y_pred_binary, average='macro')\n",
    "\n",
    "print(\"Accuracy: \", lstm_accuracy)\n",
    "print(\"\\nHammilg Loss: \", lstm_hamming_loss)\n",
    "print(\"\\nJaccard Score (micro): \", lstm_jaccard_micro)\n",
    "print(\"\\nJaccard Score (macro): \", lstm_jaccard_macro)\n",
    "print(\"\\nF1 (micro) :\", lstm_f1_micro)\n",
    "print(\"\\nF1 (macro) :\", lstm_f1_macro)\n",
    "print(\"\\nMulti Label Accuracy :\", lstm_ml_acc)"
   ]
  },
  {
   "cell_type": "code",
   "execution_count": null,
   "id": "11cc12a0-4dbb-430d-b7ec-c443299d0df6",
   "metadata": {},
   "outputs": [],
   "source": []
  }
 ],
 "metadata": {
  "kernelspec": {
   "display_name": "Python 3 (ipykernel)",
   "language": "python",
   "name": "python3"
  },
  "language_info": {
   "codemirror_mode": {
    "name": "ipython",
    "version": 3
   },
   "file_extension": ".py",
   "mimetype": "text/x-python",
   "name": "python",
   "nbconvert_exporter": "python",
   "pygments_lexer": "ipython3",
   "version": "3.11.7"
  }
 },
 "nbformat": 4,
 "nbformat_minor": 5
}
